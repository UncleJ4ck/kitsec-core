{
 "cells": [
  {
   "cell_type": "code",
   "execution_count": 19,
   "id": "5a9a2e4d",
   "metadata": {},
   "outputs": [],
   "source": [
    "def get_tech(url):\n",
    "    if not url.startswith('http'):\n",
    "        url = 'https://' + url\n",
    "    webpage = WebPage.new_from_url(url)\n",
    "    wappalyzer = Wappalyzer.latest()\n",
    "    technologies = []\n",
    "    for tech in wappalyzer.analyze(webpage):\n",
    "        technologies.append(tech)\n",
    "    return technologies"
   ]
  },
  {
   "cell_type": "code",
   "execution_count": 20,
   "id": "281735f8",
   "metadata": {},
   "outputs": [
    {
     "ename": "NameError",
     "evalue": "name 'webPage' is not defined",
     "output_type": "error",
     "traceback": [
      "\u001b[0;31m---------------------------------------------------------------------------\u001b[0m",
      "\u001b[0;31mNameError\u001b[0m                                 Traceback (most recent call last)",
      "\u001b[0;32m/var/folders/9s/rd71b32n70g_31jkjkkc5nwr0000gn/T/ipykernel_11764/4105266568.py\u001b[0m in \u001b[0;36m<module>\u001b[0;34m\u001b[0m\n\u001b[0;32m----> 1\u001b[0;31m \u001b[0mget_tech\u001b[0m\u001b[0;34m(\u001b[0m\u001b[0;34m'portal.airbyte.com'\u001b[0m\u001b[0;34m)\u001b[0m\u001b[0;34m\u001b[0m\u001b[0;34m\u001b[0m\u001b[0m\n\u001b[0m",
      "\u001b[0;32m/var/folders/9s/rd71b32n70g_31jkjkkc5nwr0000gn/T/ipykernel_11764/239486151.py\u001b[0m in \u001b[0;36mget_tech\u001b[0;34m(url)\u001b[0m\n\u001b[1;32m      2\u001b[0m     \u001b[0;32mif\u001b[0m \u001b[0;32mnot\u001b[0m \u001b[0murl\u001b[0m\u001b[0;34m.\u001b[0m\u001b[0mstartswith\u001b[0m\u001b[0;34m(\u001b[0m\u001b[0;34m'http'\u001b[0m\u001b[0;34m)\u001b[0m\u001b[0;34m:\u001b[0m\u001b[0;34m\u001b[0m\u001b[0;34m\u001b[0m\u001b[0m\n\u001b[1;32m      3\u001b[0m         \u001b[0murl\u001b[0m \u001b[0;34m=\u001b[0m \u001b[0;34m'https://'\u001b[0m \u001b[0;34m+\u001b[0m \u001b[0murl\u001b[0m\u001b[0;34m\u001b[0m\u001b[0;34m\u001b[0m\u001b[0m\n\u001b[0;32m----> 4\u001b[0;31m     \u001b[0mwebpage\u001b[0m \u001b[0;34m=\u001b[0m \u001b[0mwebPage\u001b[0m\u001b[0;34m.\u001b[0m\u001b[0mnew_from_url\u001b[0m\u001b[0;34m(\u001b[0m\u001b[0murl\u001b[0m\u001b[0;34m)\u001b[0m\u001b[0;34m\u001b[0m\u001b[0;34m\u001b[0m\u001b[0m\n\u001b[0m\u001b[1;32m      5\u001b[0m     \u001b[0mwappalyzer\u001b[0m \u001b[0;34m=\u001b[0m \u001b[0mWappalyzer\u001b[0m\u001b[0;34m.\u001b[0m\u001b[0mlatest\u001b[0m\u001b[0;34m(\u001b[0m\u001b[0;34m)\u001b[0m\u001b[0;34m\u001b[0m\u001b[0;34m\u001b[0m\u001b[0m\n\u001b[1;32m      6\u001b[0m     \u001b[0mtechnologies\u001b[0m \u001b[0;34m=\u001b[0m \u001b[0;34m[\u001b[0m\u001b[0;34m]\u001b[0m\u001b[0;34m\u001b[0m\u001b[0;34m\u001b[0m\u001b[0m\n",
      "\u001b[0;31mNameError\u001b[0m: name 'webPage' is not defined"
     ]
    }
   ],
   "source": [
    "get_tech('portal.airbyte.com')"
   ]
  },
  {
   "cell_type": "code",
   "execution_count": null,
   "id": "00b2c1fd",
   "metadata": {},
   "outputs": [],
   "source": []
  }
 ],
 "metadata": {
  "kernelspec": {
   "display_name": "Python 3 (ipykernel)",
   "language": "python",
   "name": "python3"
  },
  "language_info": {
   "codemirror_mode": {
    "name": "ipython",
    "version": 3
   },
   "file_extension": ".py",
   "mimetype": "text/x-python",
   "name": "python",
   "nbconvert_exporter": "python",
   "pygments_lexer": "ipython3",
   "version": "3.7.8"
  }
 },
 "nbformat": 4,
 "nbformat_minor": 5
}
