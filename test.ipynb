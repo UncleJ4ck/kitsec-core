{
 "cells": [
  {
   "cell_type": "code",
   "execution_count": 9,
   "id": "b87f0c05",
   "metadata": {},
   "outputs": [],
   "source": [
    "import os\n",
    "import requests\n",
    "from tqdm import tqdm\n",
    "\n",
    "def active_enumerator(domain):\n",
    "    \"\"\"\n",
    "    Enumerates subdomains for a given domain, and checks which ones are active.\n",
    "\n",
    "    Args:\n",
    "        domain (str): The domain to enumerate subdomains for.\n",
    "\n",
    "    Returns:\n",
    "        set or None: A set of subdomains, or None if no subdomains were found.\n",
    "    \"\"\"\n",
    "    subdomains = set()\n",
    "\n",
    "    dir_path = \"lists/active_enumerator\"\n",
    "    if not os.path.isdir(dir_path):\n",
    "        raise FileNotFoundError(f\"Subdomains directory '{dir_path}' not found\")\n",
    "\n",
    "    file_names = [file_name for file_name in os.listdir(dir_path) if os.path.isfile(os.path.join(dir_path, file_name)) and file_name.endswith(\".txt\")]\n",
    "    total_files = len(file_names)\n",
    "\n",
    "    for i, file_name in enumerate(file_names):\n",
    "        file_path = os.path.join(dir_path, file_name)\n",
    "\n",
    "        with open(file_path, \"r\") as subdomain_file:\n",
    "            for line in tqdm(subdomain_file, desc=f\"Scanning {file_name} ({i+1}/{total_files})\", unit=\" lines\"):\n",
    "                subdomain = line.strip()\n",
    "                full_domain = subdomain + \".\" + domain\n",
    "\n",
    "                try:\n",
    "                    response = requests.head(\"https://\" + full_domain, timeout=3)\n",
    "                    if response.status_code < 400:\n",
    "                        subdomains.add(subdomain)\n",
    "                except:\n",
    "                    pass\n",
    "\n",
    "    if subdomains:\n",
    "        return subdomains\n",
    "    else:\n",
    "        return None"
   ]
  },
  {
   "cell_type": "code",
   "execution_count": 10,
   "id": "fe0a33bc",
   "metadata": {},
   "outputs": [
    {
     "name": "stderr",
     "output_type": "stream",
     "text": [
      "Scanning leaky-paths.txt (1/1): 1693 lines [00:00, 2151.26 lines/s]\n"
     ]
    }
   ],
   "source": [
    "active_enumerator(\"google.com\")"
   ]
  },
  {
   "cell_type": "code",
   "execution_count": null,
   "id": "ddb9b963",
   "metadata": {},
   "outputs": [],
   "source": [
    "def active_enumerator(domain):\n",
    "    \"\"\"\n",
    "    Enumerates subdomains for a given domain, and checks which ones are active.\n",
    "\n",
    "    Args:\n",
    "        domain (str): The domain to enumerate subdomains for.\n",
    "\n",
    "    Returns:\n",
    "        set or None: A set of subdomains, or None if no subdomains were found.\n",
    "    \"\"\"\n",
    "    subdomains = set()\n",
    "\n",
    "    dir_path = \"lists/active_enumerator\"\n",
    "    if not os.path.isdir(dir_path):\n",
    "        raise FileNotFoundError(f\"Subdomains directory '{dir_path}' not found\")\n",
    "\n",
    "    file_names = [file_name for file_name in os.listdir(dir_path) if os.path.isfile(os.path.join(dir_path, file_name)) and file_name.endswith(\".txt\")]\n",
    "    total_files = len(file_names)\n",
    "\n",
    "    for i, file_name in enumerate(file_names):\n",
    "        file_path = os.path.join(dir_path, file_name)\n",
    "\n",
    "        with open(file_path, \"r\") as subdomain_file:\n",
    "            for line in tqdm(subdomain_file, desc=f\"Scanning {file_name} ({i+1}/{total_files})\", unit=\" lines\"):\n",
    "                subdomain = line.strip()\n",
    "                full_domain = subdomain + \".\" + domain\n",
    "\n",
    "                try:\n",
    "                    response = requests.head(\"https://\" + full_domain, timeout=3)\n",
    "                    if response.status_code < 400:\n",
    "                        subdomains.add(subdomain)\n",
    "                except:\n",
    "                    pass\n",
    "\n",
    "    if subdomains:\n",
    "        return subdomains\n",
    "    else:\n",
    "        return None"
   ]
  },
  {
   "cell_type": "code",
   "execution_count": null,
   "id": "5a9a2e4d",
   "metadata": {},
   "outputs": [],
   "source": []
  },
  {
   "cell_type": "code",
   "execution_count": null,
   "id": "281735f8",
   "metadata": {},
   "outputs": [],
   "source": []
  }
 ],
 "metadata": {
  "kernelspec": {
   "display_name": "Python 3 (ipykernel)",
   "language": "python",
   "name": "python3"
  },
  "language_info": {
   "codemirror_mode": {
    "name": "ipython",
    "version": 3
   },
   "file_extension": ".py",
   "mimetype": "text/x-python",
   "name": "python",
   "nbconvert_exporter": "python",
   "pygments_lexer": "ipython3",
   "version": "3.7.8"
  }
 },
 "nbformat": 4,
 "nbformat_minor": 5
}
