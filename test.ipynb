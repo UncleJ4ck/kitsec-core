{
 "cells": [
  {
   "cell_type": "code",
   "execution_count": 5,
   "id": "30ecc8df",
   "metadata": {
    "scrolled": true
   },
   "outputs": [
    {
     "name": "stderr",
     "output_type": "stream",
     "text": [
      "Scanning Ports: 100%|███████████████████████████████████████████████████████████████████████████████████████████████████████████████████████████████████████| 65535/65535 [01:06<00:00, 985.02ports/s]"
     ]
    },
    {
     "name": "stdout",
     "output_type": "stream",
     "text": [
      "www.hackerone.com:80\n",
      "www.hackerone.com:443\n",
      "www.hackerone.com:8080\n"
     ]
    },
    {
     "name": "stderr",
     "output_type": "stream",
     "text": [
      "\n"
     ]
    }
   ],
   "source": [
    "scan_ports(\"www.hackerone.com\")"
   ]
  },
  {
   "cell_type": "code",
   "execution_count": 5,
   "id": "c118b81c",
   "metadata": {},
   "outputs": [],
   "source": [
    "from Wappalyzer import Wappalyzer, WebPage\n",
    "\n",
    "def fetch_tech(url):\n",
    "    if not url.startswith('http'):\n",
    "        url = 'https://' + url\n",
    "    webpage = WebPage.new_from_url(url)\n",
    "    wappalyzer = Wappalyzer.latest()\n",
    "    technologies = []\n",
    "    \n",
    "    max_retries = 3\n",
    "    retry_count = 0\n",
    "    while retry_count < max_retries:\n",
    "        try:\n",
    "            for tech in wappalyzer.analyze(webpage):\n",
    "                technologies.append(tech)\n",
    "            return technologies\n",
    "        except Exception as e:\n",
    "            retry_count += 1\n",
    "            print(f\"Error fetching technologies for {url}: {e}\")\n",
    "            time.sleep(5)\n",
    "    print(f\"Max retries reached for {url}\")\n",
    "    return None"
   ]
  },
  {
   "cell_type": "code",
   "execution_count": 6,
   "id": "d67bad1a",
   "metadata": {},
   "outputs": [
    {
     "name": "stdout",
     "output_type": "stream",
     "text": [
      "The technologies used by google.com are: ['Google Web Server']\n"
     ]
    },
    {
     "name": "stderr",
     "output_type": "stream",
     "text": [
      "/Users/idrisschebak/.pyenv/versions/3.7.8/lib/python3.7/site-packages/Wappalyzer/Wappalyzer.py:228: UserWarning: Caught 'unbalanced parenthesis at position 119' compiling regex: ['(?:<div class=\"sf-toolbar[^>]+?>[^]+<span class=\"sf-toolbar-value\">([\\\\d.])+|<div id=\"sfwdt[^\"]+\" class=\"[^\"]*sf-toolbar)', 'version:\\\\1']\n",
      "  error=err, regex=pattern)\n"
     ]
    }
   ],
   "source": [
    "url = 'google.com'\n",
    "technologies = fetch_tech(url)\n",
    "\n",
    "if technologies is not None:\n",
    "    print(f\"The technologies used by {url} are: {technologies}\")\n",
    "else:\n",
    "    print(f\"Failed to fetch technologies for {url}\")"
   ]
  },
  {
   "cell_type": "code",
   "execution_count": null,
   "id": "76db2514",
   "metadata": {},
   "outputs": [],
   "source": []
  }
 ],
 "metadata": {
  "kernelspec": {
   "display_name": "Python 3 (ipykernel)",
   "language": "python",
   "name": "python3"
  },
  "language_info": {
   "codemirror_mode": {
    "name": "ipython",
    "version": 3
   },
   "file_extension": ".py",
   "mimetype": "text/x-python",
   "name": "python",
   "nbconvert_exporter": "python",
   "pygments_lexer": "ipython3",
   "version": "3.7.8"
  },
  "vscode": {
   "interpreter": {
    "hash": "537a74630cf7e19881f77a8aba267673536b111dd14df5dc8dd598954527be94"
   }
  }
 },
 "nbformat": 4,
 "nbformat_minor": 5
}
