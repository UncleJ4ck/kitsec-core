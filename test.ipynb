{
 "cells": [
  {
   "cell_type": "code",
   "execution_count": 4,
   "id": "ddb9b963",
   "metadata": {},
   "outputs": [],
   "source": [
    "import socket\n",
    "import concurrent.futures\n",
    "from tqdm import tqdm\n",
    "\n",
    "def scan_ports(hostname):\n",
    "    \"\"\"\n",
    "    Performs a TCP port scan on a specified hostname and a range of ports.\n",
    "\n",
    "    Args:\n",
    "    - hostname (str): the hostname of the target host\n",
    "\n",
    "    Returns:\n",
    "    - A list of open ports in the format \"host:port\"\n",
    "    \"\"\"\n",
    "\n",
    "    # Resolve the hostname to an IP address\n",
    "    ip_address = socket.gethostbyname(hostname)\n",
    "\n",
    "    open_ports = []\n",
    "\n",
    "    # Define a function to scan a single port\n",
    "    def scan_port(port):\n",
    "        sock = socket.socket(socket.AF_INET, socket.SOCK_STREAM)\n",
    "        sock.settimeout(0.1)\n",
    "        try:\n",
    "            sock.connect((ip_address, port))\n",
    "            open_ports.append(f\"{hostname}:{port}\")\n",
    "        except:\n",
    "            pass\n",
    "        finally:\n",
    "            sock.close()\n",
    "\n",
    "    # Use multi-threading to scan ports in parallel\n",
    "    with concurrent.futures.ThreadPoolExecutor(max_workers=100) as executor:\n",
    "        futures = [executor.submit(scan_port, port) for port in range(1, 65536)]\n",
    "        with tqdm(total=len(futures), desc=\"Scanning Ports\", unit=\"ports\") as progress:\n",
    "            for future in concurrent.futures.as_completed(futures):\n",
    "                progress.update(1)\n",
    "\n",
    "    # Print the open ports\n",
    "    for port in open_ports:\n",
    "        print(port)"
   ]
  },
  {
   "cell_type": "code",
   "execution_count": 5,
   "id": "30ecc8df",
   "metadata": {
    "scrolled": true
   },
   "outputs": [
    {
     "name": "stderr",
     "output_type": "stream",
     "text": [
      "Scanning Ports: 100%|███████████████████████████████████████████████████████████████████████████████████████████████████████████████████████████████████████| 65535/65535 [01:06<00:00, 985.02ports/s]"
     ]
    },
    {
     "name": "stdout",
     "output_type": "stream",
     "text": [
      "www.hackerone.com:80\n",
      "www.hackerone.com:443\n",
      "www.hackerone.com:8080\n"
     ]
    },
    {
     "name": "stderr",
     "output_type": "stream",
     "text": [
      "\n"
     ]
    }
   ],
   "source": [
    "scan_ports(\"www.hackerone.com\")"
   ]
  },
  {
   "cell_type": "code",
   "execution_count": 8,
   "id": "9026223a",
   "metadata": {},
   "outputs": [],
   "source": [
    "import os\n",
    "import requests\n",
    "from concurrent.futures import ThreadPoolExecutor\n",
    "from requests.adapters import HTTPAdapter\n",
    "from requests.packages.urllib3.util.retry import Retry\n",
    "from tqdm import tqdm\n",
    "\n",
    "def active_enumerator(domain):\n",
    "    \"\"\"\n",
    "    Enumerates subdomains for a given domain, and checks which ones are active.\n",
    "\n",
    "    Args:\n",
    "        domain (str): The domain to enumerate subdomains for.\n",
    "\n",
    "    Returns:\n",
    "        set or None: A set of subdomains, or None if no subdomains were found.\n",
    "    \"\"\"\n",
    "    subdomains = set()\n",
    "\n",
    "    dir_path = \"../lists/active_enumerator\"\n",
    "    if not os.path.isdir(dir_path):\n",
    "        raise FileNotFoundError(f\"Subdomains directory '{dir_path}' not found\")\n",
    "\n",
    "    file_names = [file_name for file_name in os.listdir(dir_path) if os.path.isfile(os.path.join(dir_path, file_name)) and file_name.endswith(\".txt\")]\n",
    "    total_files = len(file_names)\n",
    "\n",
    "    # Create a connection pool with retry and timeout settings\n",
    "    retry_strategy = Retry(\n",
    "        total=3,\n",
    "        backoff_factor=1,\n",
    "        status_forcelist=[ 500, 502, 503, 504 ]\n",
    "    )\n",
    "    adapter = HTTPAdapter(max_retries=retry_strategy)\n",
    "    http = requests.Session()\n",
    "    http.mount(\"https://\", adapter)\n",
    "\n",
    "    # Define the worker function to check subdomains\n",
    "    def worker(subdomain):\n",
    "        full_domain = subdomain + \".\" + domain\n",
    "\n",
    "        try:\n",
    "            response = http.head(\"https://\" + full_domain, timeout=3)\n",
    "            if response.status_code < 400:\n",
    "                return subdomain\n",
    "        except:\n",
    "            pass\n",
    "\n",
    "        return None\n",
    "\n",
    "    # Enumerate and check subdomains in parallel using a thread pool\n",
    "    with ThreadPoolExecutor(max_workers=32) as executor:\n",
    "        futures = []\n",
    "        for file_name in file_names:\n",
    "            file_path = os.path.join(dir_path, file_name)\n",
    "            with open(file_path, \"r\") as subdomain_file:\n",
    "                for line in subdomain_file:\n",
    "                    subdomain = line.strip()\n",
    "                    futures.append(executor.submit(worker, subdomain))\n",
    "\n",
    "        for future in tqdm(futures, total=len(futures), desc=\"Active enumeration\", unit=\"Subdomains\"):\n",
    "            subdomain = future.result()\n",
    "            if subdomain:\n",
    "                subdomains.add(subdomain)\n",
    "\n",
    "    if subdomains:\n",
    "        return subdomains\n",
    "    else:\n",
    "        return set()\n"
   ]
  },
  {
   "cell_type": "code",
   "execution_count": 9,
   "id": "fc630c1d",
   "metadata": {},
   "outputs": [
    {
     "name": "stderr",
     "output_type": "stream",
     "text": [
      "Active enumeration: 100%|███████████████████████████████████████████████████████████████████████████████████████████████████████████████████████████████| 1693/1693 [00:01<00:00, 1480.09Subdomains/s]\n"
     ]
    },
    {
     "data": {
      "text/plain": [
       "set()"
      ]
     },
     "execution_count": 9,
     "metadata": {},
     "output_type": "execute_result"
    }
   ],
   "source": [
    "active_enumerator('miro.com')"
   ]
  },
  {
   "cell_type": "code",
   "execution_count": null,
   "id": "3cd2abbd",
   "metadata": {},
   "outputs": [],
   "source": []
  }
 ],
 "metadata": {
  "kernelspec": {
   "display_name": "Python 3 (ipykernel)",
   "language": "python",
   "name": "python3"
  },
  "language_info": {
   "codemirror_mode": {
    "name": "ipython",
    "version": 3
   },
   "file_extension": ".py",
   "mimetype": "text/x-python",
   "name": "python",
   "nbconvert_exporter": "python",
   "pygments_lexer": "ipython3",
   "version": "3.7.8"
  }
 },
 "nbformat": 4,
 "nbformat_minor": 5
}
