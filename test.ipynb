{
 "cells": [
  {
   "cell_type": "code",
   "execution_count": 6,
   "id": "b87f0c05",
   "metadata": {},
   "outputs": [],
   "source": [
    "import os\n",
    "import requests\n",
    "from urllib.parse import urlparse\n",
    "\n",
    "def active_enumerator(domain):\n",
    "    \"\"\"\n",
    "    Enumerates subdomains for a given domain, and checks which ones are active.\n",
    "\n",
    "    Args:\n",
    "        domain (str): The domain to enumerate subdomains for.\n",
    "\n",
    "    Returns:\n",
    "        set: A set of subdomains.\n",
    "    \"\"\"\n",
    "    # If the input is just a domain name without the protocol prefix, add \"http://\" to the beginning\n",
    "    if not domain.startswith(\"http\"):\n",
    "        domain = \"http://\" + domain\n",
    "\n",
    "    # Parse the domain to get just the hostname\n",
    "    hostname = urlparse(domain).hostname\n",
    "\n",
    "    subdomains = set()\n",
    "\n",
    "    with open(\"../lists/subdomains\", \"r\") as subdomain_file:\n",
    "        for line in subdomain_file:\n",
    "            subdomain = line.strip()\n",
    "            if subdomain.endswith(hostname):\n",
    "                subdomains.add(subdomain)\n",
    "\n",
    "    active_subdomains = set()\n",
    "\n",
    "    for subdomain in subdomains:\n",
    "        try:\n",
    "            response = requests.get(f\"http://{subdomain}\")\n",
    "            if response.status_code < 400:\n",
    "                active_subdomains.add(subdomain)\n",
    "        except:\n",
    "            pass\n",
    "\n",
    "    return subdomains\n"
   ]
  },
  {
   "cell_type": "code",
   "execution_count": 9,
   "id": "fe0a33bc",
   "metadata": {},
   "outputs": [
    {
     "ename": "FileNotFoundError",
     "evalue": "[Errno 2] No such file or directory: '../lists/subdomains'",
     "output_type": "error",
     "traceback": [
      "\u001b[0;31m---------------------------------------------------------------------------\u001b[0m",
      "\u001b[0;31mFileNotFoundError\u001b[0m                         Traceback (most recent call last)",
      "\u001b[0;32m/var/folders/9s/rd71b32n70g_31jkjkkc5nwr0000gn/T/ipykernel_9148/4187150509.py\u001b[0m in \u001b[0;36m<module>\u001b[0;34m\u001b[0m\n\u001b[0;32m----> 1\u001b[0;31m \u001b[0mactive_enumerator\u001b[0m\u001b[0;34m(\u001b[0m\u001b[0;34m\"github.com\"\u001b[0m\u001b[0;34m)\u001b[0m\u001b[0;34m\u001b[0m\u001b[0;34m\u001b[0m\u001b[0m\n\u001b[0m",
      "\u001b[0;32m/var/folders/9s/rd71b32n70g_31jkjkkc5nwr0000gn/T/ipykernel_9148/3095497208.py\u001b[0m in \u001b[0;36mactive_enumerator\u001b[0;34m(domain)\u001b[0m\n\u001b[1;32m     22\u001b[0m     \u001b[0msubdomains\u001b[0m \u001b[0;34m=\u001b[0m \u001b[0mset\u001b[0m\u001b[0;34m(\u001b[0m\u001b[0;34m)\u001b[0m\u001b[0;34m\u001b[0m\u001b[0;34m\u001b[0m\u001b[0m\n\u001b[1;32m     23\u001b[0m \u001b[0;34m\u001b[0m\u001b[0m\n\u001b[0;32m---> 24\u001b[0;31m     \u001b[0;32mwith\u001b[0m \u001b[0mopen\u001b[0m\u001b[0;34m(\u001b[0m\u001b[0;34m\"../lists/subdomains\"\u001b[0m\u001b[0;34m,\u001b[0m \u001b[0;34m\"r\"\u001b[0m\u001b[0;34m)\u001b[0m \u001b[0;32mas\u001b[0m \u001b[0msubdomain_file\u001b[0m\u001b[0;34m:\u001b[0m\u001b[0;34m\u001b[0m\u001b[0;34m\u001b[0m\u001b[0m\n\u001b[0m\u001b[1;32m     25\u001b[0m         \u001b[0;32mfor\u001b[0m \u001b[0mline\u001b[0m \u001b[0;32min\u001b[0m \u001b[0msubdomain_file\u001b[0m\u001b[0;34m:\u001b[0m\u001b[0;34m\u001b[0m\u001b[0;34m\u001b[0m\u001b[0m\n\u001b[1;32m     26\u001b[0m             \u001b[0msubdomain\u001b[0m \u001b[0;34m=\u001b[0m \u001b[0mline\u001b[0m\u001b[0;34m.\u001b[0m\u001b[0mstrip\u001b[0m\u001b[0;34m(\u001b[0m\u001b[0;34m)\u001b[0m\u001b[0;34m\u001b[0m\u001b[0;34m\u001b[0m\u001b[0m\n",
      "\u001b[0;31mFileNotFoundError\u001b[0m: [Errno 2] No such file or directory: '../lists/subdomains'"
     ]
    }
   ],
   "source": [
    "active_enumerator(\"github.com\")"
   ]
  },
  {
   "cell_type": "code",
   "execution_count": 10,
   "id": "e4b8b62f",
   "metadata": {},
   "outputs": [
    {
     "name": "stdout",
     "output_type": "stream",
     "text": [
      "False\n"
     ]
    }
   ],
   "source": [
    "import os\n",
    "\n",
    "file_path = \"../lists/subdomains\"\n",
    "print(os.path.isfile(file_path))"
   ]
  },
  {
   "cell_type": "code",
   "execution_count": null,
   "id": "ddb9b963",
   "metadata": {},
   "outputs": [],
   "source": []
  }
 ],
 "metadata": {
  "kernelspec": {
   "display_name": "Python 3 (ipykernel)",
   "language": "python",
   "name": "python3"
  },
  "language_info": {
   "codemirror_mode": {
    "name": "ipython",
    "version": 3
   },
   "file_extension": ".py",
   "mimetype": "text/x-python",
   "name": "python",
   "nbconvert_exporter": "python",
   "pygments_lexer": "ipython3",
   "version": "3.7.8"
  }
 },
 "nbformat": 4,
 "nbformat_minor": 5
}
