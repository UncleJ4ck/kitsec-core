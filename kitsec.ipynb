{
 "cells": [
  {
   "cell_type": "markdown",
   "id": "a30374d4",
   "metadata": {},
   "source": [
    "#  Dependencies"
   ]
  },
  {
   "cell_type": "code",
   "execution_count": 2,
   "id": "0d447c7a",
   "metadata": {},
   "outputs": [],
   "source": [
    "import os\n",
    "import time\n",
    "import socket\n",
    "import platform\n",
    "import requests\n",
    "import paramiko\n",
    "import warnings\n",
    "import concurrent\n",
    "import subprocess\n",
    "import pandas as pd\n",
    "from tqdm import tqdm\n",
    "from bs4 import BeautifulSoup\n",
    "from tabulate import tabulate\n",
    "from urllib.parse import urlparse\n",
    "from Wappalyzer import Wappalyzer, WebPage"
   ]
  },
  {
   "cell_type": "markdown",
   "id": "eb3df049",
   "metadata": {},
   "source": [
    "# Linode"
   ]
  },
  {
   "cell_type": "code",
   "execution_count": 3,
   "id": "76db2514",
   "metadata": {},
   "outputs": [],
   "source": [
    "def linode(host, username, password):\n",
    "    \"\"\"\n",
    "    Executes the \"df\" command on a remote Linode server via SSH and prints the output.\n",
    "\n",
    "    Args:\n",
    "        host (str): The IP address of the Linode server to connect to.\n",
    "        username (str): The limited user account to use for connecting to the Linode server.\n",
    "        password (str): The password for the user account.\n",
    "    \"\"\"\n",
    "    command = \"df\"\n",
    "    client = paramiko.SSHClient()\n",
    "    client.set_missing_host_key_policy(paramiko.AutoAddPolicy())\n",
    "    client.connect(host, username=username, password=password)\n",
    "    stdin, stdout, stderr = client.exec_command(command)\n",
    "    print(stdout.read().decode())\n",
    "    client.close()"
   ]
  },
  {
   "cell_type": "markdown",
   "id": "4d0e568a",
   "metadata": {},
   "source": [
    "# Enumerator"
   ]
  },
  {
   "cell_type": "code",
   "execution_count": 4,
   "id": "dbd47bc8",
   "metadata": {},
   "outputs": [],
   "source": [
    "def passive_enumerator(domain):\n",
    "    \"\"\"\n",
    "    Uses Subfinder to enumerate subdomains for a given domain.\n",
    "\n",
    "    Args:\n",
    "        domain (str): The domain to enumerate subdomains for.\n",
    "\n",
    "    Returns:\n",
    "        set: A set of subdomains.\n",
    "    \"\"\"\n",
    "    with open(os.devnull, 'w') as nullfile:\n",
    "        subfinder_output = subprocess.check_output(['subfinder', '-d', domain], stderr=nullfile)\n",
    "\n",
    "    subdomains = set(subfinder_output.decode('utf-8').strip().split('\\n'))\n",
    "\n",
    "    return subdomains\n",
    "\n",
    "def active_enumerator(domain):\n",
    "    \"\"\"\n",
    "    Enumerates subdomains for a given domain, and checks which ones are active.\n",
    "    Args:\n",
    "        domain (str): The domain to enumerate subdomains for.\n",
    "    Returns:\n",
    "        set or None: A set of subdomains, or None if no subdomains were found.\n",
    "    \"\"\"\n",
    "    subdomains = set()\n",
    "    dir_path = \"../lists/active_enumerator\"\n",
    "    if not os.path.isdir(dir_path):\n",
    "        raise FileNotFoundError(f\"Subdomains directory '{dir_path}' not found\")\n",
    "    file_names = [file_name for file_name in os.listdir(dir_path) if os.path.isfile(os.path.join(dir_path, file_name)) and file_name.endswith(\".txt\")]\n",
    "    total_files = len(file_names)\n",
    "    for i, file_name in enumerate(file_names):\n",
    "        file_path = os.path.join(dir_path, file_name)\n",
    "        with open(file_path, \"r\") as subdomain_file:\n",
    "            for line in tqdm(subdomain_file, desc=\"Active enumeration\", unit=\"Subdomains\"):\n",
    "                subdomain = line.strip()\n",
    "                full_domain = subdomain + \".\" + domain\n",
    "                try:\n",
    "                    response = requests.head(\"https://\" + full_domain, timeout=3)\n",
    "                    if response.status_code < 400:\n",
    "                        subdomains.add(subdomain)\n",
    "                except:\n",
    "                    pass\n",
    "    if subdomains:\n",
    "        return subdomains\n",
    "    else:\n",
    "        return set()"
   ]
  },
  {
   "cell_type": "markdown",
   "id": "cc920e1c",
   "metadata": {},
   "source": [
    "# HTTP Response fetcher"
   ]
  },
  {
   "cell_type": "code",
   "execution_count": 5,
   "id": "69211367",
   "metadata": {},
   "outputs": [],
   "source": [
    "def fetch_response(subdomains, technology):\n",
    "    response_table = []\n",
    "    for subdomain in tqdm(subdomains, desc='Testing subdomains', unit='subdomain', leave=False):\n",
    "        try:\n",
    "            response = requests.get(f'http://{subdomain}')\n",
    "            response_table.append([subdomain, response.status_code, response.reason, ''])\n",
    "            if technology:\n",
    "                tech = fetch_tech(subdomain)\n",
    "                response_table[-1][-1] = tech\n",
    "            time.sleep(0.5)  # Add a delay to avoid overloading the target website\n",
    "        except requests.exceptions.RequestException as e:\n",
    "            print(f\"An error occurred while trying to connect to '{subdomain}': {str(e)}\")\n",
    "            continue\n",
    "        except (socket.gaierror, socket.error) as e:\n",
    "            print(f\"An error occurred while trying to connect to '{subdomain}': {str(e)}\")\n",
    "            continue\n",
    "    return response_table"
   ]
  },
  {
   "cell_type": "markdown",
   "id": "edbce2d0",
   "metadata": {},
   "source": [
    "# Technology fetcher"
   ]
  },
  {
   "cell_type": "code",
   "execution_count": 6,
   "id": "96a9392e",
   "metadata": {},
   "outputs": [],
   "source": [
    "def fetch_tech(url):\n",
    "    if not url.startswith('http'):\n",
    "        url = 'https://' + url\n",
    "    webpage = WebPage.new_from_url(url)\n",
    "    wappalyzer = Wappalyzer.latest()\n",
    "    technologies = []\n",
    "    \n",
    "    max_retries = 5\n",
    "    retry_count = 0\n",
    "    while retry_count < max_retries:\n",
    "        try:\n",
    "            for tech in wappalyzer.analyze(webpage):\n",
    "                technologies.append(tech)\n",
    "            return technologies\n",
    "        except Exception as e:\n",
    "            retry_count += 1\n",
    "            print(f\"Error fetching technologies for {url}: {e}\")\n",
    "            time.sleep(5)\n",
    "    print(f\"Max retries reached for {url}\")\n",
    "    return None"
   ]
  },
  {
   "cell_type": "markdown",
   "id": "e4d87f61",
   "metadata": {},
   "source": [
    "# Raider"
   ]
  },
  {
   "cell_type": "code",
   "execution_count": 7,
   "id": "2ac4baa7",
   "metadata": {},
   "outputs": [],
   "source": [
    "def raider(url, num_threats=6, num_requests=200, num_retries=4, pause_before_retry=3000):\n",
    "    \"\"\"\n",
    "    Sends HTTP requests to a given URL with a specified number of threats and requests.\n",
    "\n",
    "    Args:\n",
    "        url (str): The URL to send the requests to (i.e. subdomain.domain.com).\n",
    "        num_threats (int, optional): The number of parallel threats to send requests from. Defaults to 6.\n",
    "        num_requests (int, optional): The number of requests to send from each threat. Defaults to 200.\n",
    "        num_retries (int, optional): The number of times to retry failed requests. Defaults to 4.\n",
    "        pause_before_retry (int, optional): The number of milliseconds to wait before retrying a failed request. \n",
    "            Defaults to 3000.\n",
    "    \"\"\"\n",
    "    if not url.startswith('http://') and not url.startswith('https://'):\n",
    "        url = 'https://' + url\n",
    "    prepared_request = requests.Request('GET', url).prepare()\n",
    "    results = []\n",
    "    with requests.Session() as session:\n",
    "        adapter = requests.adapters.HTTPAdapter(max_retries=num_retries)\n",
    "        session.mount('http://', adapter)\n",
    "        session.mount('https://', adapter)\n",
    "        pool = session.send\n",
    "        for i in range(num_threats):\n",
    "            threat_results = []\n",
    "            with tqdm(total=num_requests, desc=f'Threat {i+1}') as pbar:\n",
    "                for j in range(num_requests):\n",
    "                    response = pool(prepared_request)\n",
    "                    threat_results.append(response)\n",
    "                    if response.status_code == 200:\n",
    "                        break\n",
    "                    time.sleep(pause_before_retry/1000)\n",
    "                    pbar.update(1)\n",
    "            results.append(threat_results)\n",
    "    return results"
   ]
  },
  {
   "cell_type": "markdown",
   "id": "fdb946e7",
   "metadata": {},
   "source": [
    "# Port scanner"
   ]
  },
  {
   "cell_type": "code",
   "execution_count": 8,
   "id": "ffd712fe",
   "metadata": {},
   "outputs": [],
   "source": [
    "def portscanner(url):\n",
    "    \"\"\"\n",
    "    Performs a TCP port scan on a specified hostname or URL and a range of ports.\n",
    "\n",
    "    Args:\n",
    "    - url (str): the hostname or URL of the target host\n",
    "    \"\"\"\n",
    "\n",
    "    # Add a scheme to the URL if it is not present\n",
    "    if not url.startswith('http://') and not url.startswith('https://'):\n",
    "        url = 'https://' + url\n",
    "\n",
    "    # Parse the URL to extract the hostname\n",
    "    hostname = urlparse(url).hostname or url\n",
    "\n",
    "    # Resolve the hostname to an IP address\n",
    "    ip_address = socket.gethostbyname(hostname)\n",
    "\n",
    "    open_ports = []\n",
    "\n",
    "    # Define a function to scan a single port\n",
    "    def scan_port(port):\n",
    "        sock = socket.socket(socket.AF_INET, socket.SOCK_STREAM)\n",
    "        sock.settimeout(0.1)\n",
    "        try:\n",
    "            sock.connect((ip_address, port))\n",
    "            open_ports.append(f\"{hostname}:{port}\")\n",
    "        except:\n",
    "            pass\n",
    "        finally:\n",
    "            sock.close()\n",
    "\n",
    "    # Use multi-threading to scan ports in parallel\n",
    "    with concurrent.futures.ThreadPoolExecutor(max_workers=100) as executor:\n",
    "        futures = [executor.submit(scan_port, port) for port in range(1, 65536)]\n",
    "        with tqdm(total=len(futures), desc=\"Scanning Ports\", unit=\"ports\") as progress:\n",
    "            for future in concurrent.futures.as_completed(futures):\n",
    "                progress.update(1)\n",
    "\n",
    "    # Print the open ports\n",
    "    print('\\nOpen Ports:')\n",
    "    for port in open_ports:\n",
    "        print(port)"
   ]
  },
  {
   "cell_type": "code",
   "execution_count": 9,
   "id": "284d01b8",
   "metadata": {},
   "outputs": [
    {
     "ename": "FileNotFoundError",
     "evalue": "Subdomains directory '../lists/active_enumerator' not found",
     "output_type": "error",
     "traceback": [
      "\u001b[0;31m---------------------------------------------------------------------------\u001b[0m",
      "\u001b[0;31mFileNotFoundError\u001b[0m                         Traceback (most recent call last)",
      "\u001b[0;32m/var/folders/9s/rd71b32n70g_31jkjkkc5nwr0000gn/T/ipykernel_86342/550441377.py\u001b[0m in \u001b[0;36m<module>\u001b[0;34m\u001b[0m\n\u001b[0;32m----> 1\u001b[0;31m \u001b[0mactive_enumerator\u001b[0m\u001b[0;34m(\u001b[0m\u001b[0;34m'legal.yousign.com'\u001b[0m\u001b[0;34m)\u001b[0m\u001b[0;34m\u001b[0m\u001b[0;34m\u001b[0m\u001b[0m\n\u001b[0m",
      "\u001b[0;32m/var/folders/9s/rd71b32n70g_31jkjkkc5nwr0000gn/T/ipykernel_86342/3225815211.py\u001b[0m in \u001b[0;36mactive_enumerator\u001b[0;34m(domain)\u001b[0m\n\u001b[1;32m     27\u001b[0m     \u001b[0mdir_path\u001b[0m \u001b[0;34m=\u001b[0m \u001b[0;34m\"../lists/active_enumerator\"\u001b[0m\u001b[0;34m\u001b[0m\u001b[0;34m\u001b[0m\u001b[0m\n\u001b[1;32m     28\u001b[0m     \u001b[0;32mif\u001b[0m \u001b[0;32mnot\u001b[0m \u001b[0mos\u001b[0m\u001b[0;34m.\u001b[0m\u001b[0mpath\u001b[0m\u001b[0;34m.\u001b[0m\u001b[0misdir\u001b[0m\u001b[0;34m(\u001b[0m\u001b[0mdir_path\u001b[0m\u001b[0;34m)\u001b[0m\u001b[0;34m:\u001b[0m\u001b[0;34m\u001b[0m\u001b[0;34m\u001b[0m\u001b[0m\n\u001b[0;32m---> 29\u001b[0;31m         \u001b[0;32mraise\u001b[0m \u001b[0mFileNotFoundError\u001b[0m\u001b[0;34m(\u001b[0m\u001b[0;34mf\"Subdomains directory '{dir_path}' not found\"\u001b[0m\u001b[0;34m)\u001b[0m\u001b[0;34m\u001b[0m\u001b[0;34m\u001b[0m\u001b[0m\n\u001b[0m\u001b[1;32m     30\u001b[0m     \u001b[0mfile_names\u001b[0m \u001b[0;34m=\u001b[0m \u001b[0;34m[\u001b[0m\u001b[0mfile_name\u001b[0m \u001b[0;32mfor\u001b[0m \u001b[0mfile_name\u001b[0m \u001b[0;32min\u001b[0m \u001b[0mos\u001b[0m\u001b[0;34m.\u001b[0m\u001b[0mlistdir\u001b[0m\u001b[0;34m(\u001b[0m\u001b[0mdir_path\u001b[0m\u001b[0;34m)\u001b[0m \u001b[0;32mif\u001b[0m \u001b[0mos\u001b[0m\u001b[0;34m.\u001b[0m\u001b[0mpath\u001b[0m\u001b[0;34m.\u001b[0m\u001b[0misfile\u001b[0m\u001b[0;34m(\u001b[0m\u001b[0mos\u001b[0m\u001b[0;34m.\u001b[0m\u001b[0mpath\u001b[0m\u001b[0;34m.\u001b[0m\u001b[0mjoin\u001b[0m\u001b[0;34m(\u001b[0m\u001b[0mdir_path\u001b[0m\u001b[0;34m,\u001b[0m \u001b[0mfile_name\u001b[0m\u001b[0;34m)\u001b[0m\u001b[0;34m)\u001b[0m \u001b[0;32mand\u001b[0m \u001b[0mfile_name\u001b[0m\u001b[0;34m.\u001b[0m\u001b[0mendswith\u001b[0m\u001b[0;34m(\u001b[0m\u001b[0;34m\".txt\"\u001b[0m\u001b[0;34m)\u001b[0m\u001b[0;34m]\u001b[0m\u001b[0;34m\u001b[0m\u001b[0;34m\u001b[0m\u001b[0m\n\u001b[1;32m     31\u001b[0m     \u001b[0mtotal_files\u001b[0m \u001b[0;34m=\u001b[0m \u001b[0mlen\u001b[0m\u001b[0;34m(\u001b[0m\u001b[0mfile_names\u001b[0m\u001b[0;34m)\u001b[0m\u001b[0;34m\u001b[0m\u001b[0;34m\u001b[0m\u001b[0m\n",
      "\u001b[0;31mFileNotFoundError\u001b[0m: Subdomains directory '../lists/active_enumerator' not found"
     ]
    }
   ],
   "source": [
    "active_enumerator('legal.yousign.com')"
   ]
  },
  {
   "cell_type": "code",
   "execution_count": null,
   "id": "aced0ad2",
   "metadata": {},
   "outputs": [],
   "source": []
  }
 ],
 "metadata": {
  "kernelspec": {
   "display_name": "Python 3 (ipykernel)",
   "language": "python",
   "name": "python3"
  },
  "language_info": {
   "codemirror_mode": {
    "name": "ipython",
    "version": 3
   },
   "file_extension": ".py",
   "mimetype": "text/x-python",
   "name": "python",
   "nbconvert_exporter": "python",
   "pygments_lexer": "ipython3",
   "version": "3.7.8"
  },
  "vscode": {
   "interpreter": {
    "hash": "537a74630cf7e19881f77a8aba267673536b111dd14df5dc8dd598954527be94"
   }
  }
 },
 "nbformat": 4,
 "nbformat_minor": 5
}
